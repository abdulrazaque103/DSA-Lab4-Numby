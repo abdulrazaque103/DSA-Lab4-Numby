{
  "nbformat": 4,
  "nbformat_minor": 0,
  "metadata": {
    "colab": {
      "provenance": [],
      "authorship_tag": "ABX9TyOwT50JblW5cwrRNtuLPvUh",
      "include_colab_link": true
    },
    "kernelspec": {
      "name": "python3",
      "display_name": "Python 3"
    },
    "language_info": {
      "name": "python"
    }
  },
  "cells": [
    {
      "cell_type": "markdown",
      "metadata": {
        "id": "view-in-github",
        "colab_type": "text"
      },
      "source": [
        "<a href=\"https://colab.research.google.com/github/GhanshamSoomarani/Data-Science-Analytics/blob/main/20sw081(Lab_4).ipynb\" target=\"_parent\"><img src=\"https://colab.research.google.com/assets/colab-badge.svg\" alt=\"Open In Colab\"/></a>"
      ]
    },
    {
      "cell_type": "markdown",
      "source": [
        "**Lab 4**"
      ],
      "metadata": {
        "id": "lfLKcb4guSIG"
      }
    },
    {
      "cell_type": "markdown",
      "source": [
        "Task 1"
      ],
      "metadata": {
        "id": "UitG_50pwcuS"
      }
    },
    {
      "cell_type": "code",
      "execution_count": 11,
      "metadata": {
        "colab": {
          "base_uri": "https://localhost:8080/"
        },
        "id": "uUcM0Z5Nt9c_",
        "outputId": "bc401b95-8b46-43d4-c049-d381e59d4f3d"
      },
      "outputs": [
        {
          "output_type": "stream",
          "name": "stdout",
          "text": [
            "[[ 2  4  6  8]\n",
            " [10 12 14 16]\n",
            " [18 20 22 24]\n",
            " [26 28 30 32]]\n"
          ]
        }
      ],
      "source": [
        "import numpy as np\n",
        "\n",
        "X = np.arange(2, 33, 2).reshape(4, 4)\n",
        "print(X)"
      ]
    },
    {
      "cell_type": "markdown",
      "source": [
        "Task 2"
      ],
      "metadata": {
        "id": "5Ah88Q20uNFp"
      }
    },
    {
      "cell_type": "code",
      "source": [
        "import numpy as np\n",
        "\n",
        "X = np.arange(1, 26).reshape(5, 5)\n",
        "\n",
        "Y = X[X % 2 != 0]\n",
        "\n",
        "print(\"Original Array:\")\n",
        "print(X)\n",
        "print(\"\\nArray with Odd Numbers:\")\n",
        "print(Y)"
      ],
      "metadata": {
        "colab": {
          "base_uri": "https://localhost:8080/"
        },
        "id": "DwS0UaKWuaq6",
        "outputId": "f42522f5-a20f-4662-c55c-ddc628471c0f"
      },
      "execution_count": 12,
      "outputs": [
        {
          "output_type": "stream",
          "name": "stdout",
          "text": [
            "Original Array:\n",
            "[[ 1  2  3  4  5]\n",
            " [ 6  7  8  9 10]\n",
            " [11 12 13 14 15]\n",
            " [16 17 18 19 20]\n",
            " [21 22 23 24 25]]\n",
            "\n",
            "Array with Odd Numbers:\n",
            "[ 1  3  5  7  9 11 13 15 17 19 21 23 25]\n"
          ]
        }
      ]
    },
    {
      "cell_type": "markdown",
      "source": [
        "Task 3"
      ],
      "metadata": {
        "id": "hmoBjW9Bv2Gl"
      }
    },
    {
      "cell_type": "code",
      "source": [
        "import numpy as np\n",
        "\n",
        "X = np.arange(1, 5).reshape(4, 1) * np.ones((1, 4))\n",
        "\n",
        "print(X)"
      ],
      "metadata": {
        "colab": {
          "base_uri": "https://localhost:8080/"
        },
        "id": "34gQDchZuj4D",
        "outputId": "eccc07b5-1a78-43a4-8585-193131ee81c5"
      },
      "execution_count": 13,
      "outputs": [
        {
          "output_type": "stream",
          "name": "stdout",
          "text": [
            "[[1. 1. 1. 1.]\n",
            " [2. 2. 2. 2.]\n",
            " [3. 3. 3. 3.]\n",
            " [4. 4. 4. 4.]]\n"
          ]
        }
      ]
    },
    {
      "cell_type": "markdown",
      "source": [
        "Task 4"
      ],
      "metadata": {
        "id": "EpvPFp6ev8eY"
      }
    },
    {
      "cell_type": "code",
      "source": [
        "from google.colab import drive\n",
        "drive.mount('/NumPy.ipynb')\n",
        "import numpy as np\n",
        "\n",
        "# Create a 1000x20 ndarray with random integers in the range [0, 5001)\n",
        "X = np.random.randint(0, 5001, size=(1000, 20))\n",
        "# Print the shape of X\n",
        "print(X.shape)\n",
        "\n",
        "# Calculate the average of the values in each column of X\n",
        "ave_cols = np.mean(X, axis=0)\n",
        "\n",
        "# Calculate the standard deviation of the values in each column of X\n",
        "std_cols = np.std(X, axis=0)\n",
        "\n",
        "\n",
        "print(\"Shape of ave_cols:\", ave_cols.shape)\n",
        "print(\"Shape of std_cols:\", std_cols.shape)\n",
        "\n",
        "# Mean normalize X\n",
        "X_norm = (X - ave_cols) / std_cols\n",
        "\n",
        "print(\"Mean normalized X:\")\n",
        "print(X_norm)\n",
        "\n",
        "# Print the average of all the values of X_norm\n",
        "ave_all_values = np.mean(X_norm)\n",
        "print(\"Average of all values in X_norm:\", ave_all_values)\n",
        "\n",
        "# Print the average of the minimum value in each column of X_norm\n",
        "ave_min_values = np.mean(np.min(X_norm, axis=0))\n",
        "print(\"Average of minimum values in each column of X_norm:\", ave_min_values)\n",
        "\n",
        "# Print the average of the maximum value in each column of X_norm\n",
        "ave_max_values = np.mean(np.max(X_norm, axis=0))\n",
        "print(\"Average of maximum values in each column of X_norm:\", ave_max_values)\n",
        "\n",
        "# We create a random permutation of integers 0 to 4\n",
        "np.random.permutation(5)\n",
        "\n",
        "# Create a random permutation of row indices of X_norm\n",
        "row_indices = np.random.permutation(X_norm.shape[0])\n",
        "\n",
        "print(\"Random permutation of row indices:\", row_indices)\n",
        "\n",
        "# Define the ratios for training, cross-validation, and test sets\n",
        "train_ratio = 0.6\n",
        "cross_val_ratio = 0.2\n",
        "test_ratio = 0.2\n",
        "\n",
        "# Calculate the sizes of each set based on the ratios\n",
        "num_rows = X_norm.shape[0]\n",
        "num_train = int(train_ratio * num_rows)\n",
        "num_cross_val = int(cross_val_ratio * num_rows)\n",
        "num_test = int(test_ratio * num_rows)\n",
        "\n",
        "# Use row_indices to split the data into sets\n",
        "X_train = X_norm[row_indices[:num_train]]\n",
        "X_crossVal = X_norm[row_indices[num_train:num_train + num_cross_val]]\n",
        "X_test = X_norm[row_indices[num_train + num_cross_val:]]\n",
        "\n",
        "print(\"X_train shape:\", X_train.shape)\n",
        "print(\"X_crossVal shape:\", X_crossVal.shape)\n",
        "print(\"X_test shape:\", X_test.shape)"
      ],
      "metadata": {
        "colab": {
          "base_uri": "https://localhost:8080/"
        },
        "id": "1dn-rgTourPb",
        "outputId": "066cfe13-20e1-46d2-ce43-7423a2b6a59d"
      },
      "execution_count": 14,
      "outputs": [
        {
          "output_type": "stream",
          "name": "stdout",
          "text": [
            "Drive already mounted at /NumPy.ipynb; to attempt to forcibly remount, call drive.mount(\"/NumPy.ipynb\", force_remount=True).\n",
            "(1000, 20)\n",
            "Shape of ave_cols: (20,)\n",
            "Shape of std_cols: (20,)\n",
            "Mean normalized X:\n",
            "[[-0.1009824   1.26317794  1.49025872 ... -0.81694063 -0.02691945\n",
            "   1.03406355]\n",
            " [ 0.32396808 -0.078307    0.13439259 ...  1.35326912  1.73004814\n",
            "   1.69914252]\n",
            " [ 1.34250018 -1.09415621 -0.24972317 ...  0.64902428  0.63229255\n",
            "   0.51012452]\n",
            " ...\n",
            " [-0.83823776  1.37933254 -0.19415489 ... -0.49840314 -0.88026381\n",
            "   1.18690778]\n",
            " [-1.17077837  0.56826457  1.54165939 ... -1.01983516 -0.97314007\n",
            "  -1.31574446]\n",
            " [ 0.86561131  0.84824416 -0.53728904 ... -0.5960418   1.75239431\n",
            "   0.76211097]]\n",
            "Average of all values in X_norm: 2.9842794901924206e-17\n",
            "Average of minimum values in each column of X_norm: -1.7199901889193037\n",
            "Average of maximum values in each column of X_norm: 1.7205430116959757\n",
            "Random permutation of row indices: [ 90 155 240 919 135 840  78 890 900 108 923 338 197 499 315  77 459 256\n",
            " 711 408 328 229  17 133 871 137 835  53 829 341  16 716 190 388 769 964\n",
            " 775 129 496 591 412 845  94  66  82 188   2 456 490 359 934 579 134 558\n",
            " 860 842 598 754 895 864 149 405 656  26 398 462 781 276  54 501  69 164\n",
            " 324 466 679 846 688 581 153 648 684 198 577 206 849 463 268 291 650 312\n",
            " 766 491 575 281 308 446 694 951 653 273 350 231 525 893 704 461 784 335\n",
            " 605 280 528 606 597 664 811 703 675 213 503 211 304 707  50 210 805 418\n",
            " 428 299 384 305 881 145 311 485 896 902 671 387 948 504  81 330 389  39\n",
            " 246 945 282 357 616 999 861 620 973 100 729 929 820 631 563 156 785 963\n",
            " 285 758 802 952 623 319 786 892   5   7 169 199 789 426 457 263  58 361\n",
            " 689 977 220 828 221 914 887 548 385 741 705 204 757 244  92 837 928 667\n",
            " 495 937 217 174 994 592 556 513 852 218 167 224 686 530 257 216 834 767\n",
            " 170 571 596 735 397 588 120 248 935 416 798 203 536 946 298 236 193 447\n",
            " 993 847 586 121 696  64 912 307 181  42 710 535 378 524 516 143   6 839\n",
            " 867 613 419 889 804 906 344 920  25 534 279 936 567 692 347 168  10 500\n",
            " 492 595 761 708 783 270 569 363 201 498 258 420  29 488 439 541 139 739\n",
            " 479 102 166 911  80 643 678 323 726 615 962  65  83 810 806  87 234 449\n",
            " 266 505 640  15 751 107  51 101 903 450 353 992 506 355 978 651 985 275\n",
            " 340 109 544 932 253  18 797  27 875 701 136 910  68 300 921 249 185  60\n",
            " 343 476 755 931 826 560 396 549 869 339 286 242 570 106 633 113 559 851\n",
            " 138 897 832 807 843 519 959 619 518 956 768 531 602  99 452 179 154 259\n",
            " 442 953 898 424 700 930 583 381 580 228 553 414 119 622 791 141 111 146\n",
            " 395 219  44 317 351 607 352 365 918 853 288 547 743 202  34 158 306 958\n",
            " 891 987 320  96 440 658 260 173 296 922 793 209 191 589 638 540 370 465\n",
            " 862 817 329 808 310 831 380 545 926 337 180 360 709 927 117 652 127 858\n",
            " 687 816 226 551 594 477 737   9 857 750 629 782 838 480  40 290 885  76\n",
            " 264 208 372 112 909 110 681 950 448  74 349 975 760 968 749 212 342 194\n",
            " 390 981 990 473 251 715 725 543 796 502 237 336 836 655 458  24 309 233\n",
            " 346  43 148 274 172 409  13 663   4 183 823 770 207 482 415 814 685 262\n",
            " 988 417 392  88 844 941 593 484 393 625 469 960 854 460 150 515 522 269\n",
            " 745 713 587 247 186 632 876 815 427 690 779 732 404 938 555  57 161 277\n",
            " 659 859 883 976 334 582 682 604 255 670 509 961 642 574 383 423 697  19\n",
            " 152 795 489 763 626 970 379  20 436 566 585 873 637 699 666  33 672 996\n",
            " 901 801 940 403 227 639 332 425 822 723 702  89 573 267 546 131 327  75\n",
            " 720 986 105 429 877 693 774 848 657 410 497 894 899 399 747 966 771 243\n",
            " 511  79 772 147 572 177 599 537 819 660 576 665 764 182 661  93 200  21\n",
            " 624  31 303 103   8 824  63 468 812 630 391 790 809  22 478 318 331 322\n",
            " 905 884 222 356 187 799 907 486 245  32 144 866 284 241 673 719 526 683\n",
            " 925 471 879 792 730 759  48 165 714 517 677 126 742 453 568 578 514 289\n",
            " 118 192 608 178 184 508 316 731 636 483 520 695 512  41 756 627 297 924\n",
            " 373 527 293 441 913 821 969 753 933 908 215 830 295 272 718  56 376 917\n",
            " 722 438 827 818 382 971 561 870 225 878 287 104 915 868 778 680 965 765\n",
            " 674  23 803 669 368 494 532  72  61 974 195 614 444 472 122 944  84 565\n",
            " 529 813 302  46 542 662 162 717 603  49 510 646 223 676 954 454  28 865\n",
            " 943 176 214 252 706 115 654  12 507 980 402 523 995 942 982 443 957 451\n",
            "  47 728 533   0 271 724  62 609 140 125 855 634 401 430 445 432  70 377\n",
            " 746 734 904 983 564 151 991 159 437 554 989  38 949 997 967 362 557 727\n",
            " 800  95 562 590 366 947 333 712 124 612 239 434 369 649 321 431 872 611\n",
            " 641 644 238 794 776 972 721 487  14 955 358 230 538 196  85 375 787 116\n",
            " 189  30 175 474 738  97 157  91 886  71 467 888 130 325 421 470 762 413\n",
            " 128 278 354   3 621  86  59 250 326 736 584 880 850 464 235 475 265 301\n",
            " 856 635 618 493 163 292 825 294 364  73  67 261 863  98 114 455 539 777\n",
            " 752 610 348 698 748 367 691 552 314 386  36  55 481 550 435  11  37 422\n",
            "  45   1 254 617 283 345 171 600 521  52 740 371 874 142 394 232 406 601\n",
            " 939 916 160 984 841 123  35 313 998 645 407 788 374 668 744 205 411 132\n",
            " 833 400 647 628 979 733 780 433 882 773]\n",
            "X_train shape: (600, 20)\n",
            "X_crossVal shape: (200, 20)\n",
            "X_test shape: (200, 20)\n"
          ]
        }
      ]
    }
  ]
}